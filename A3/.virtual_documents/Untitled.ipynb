


import folium

# Initialize the map centered on Salzburg
salzburg_map = folium.Map(location=[47.8095, 13.0550], zoom_start=13)

# Show the map
salzburg_map


# Add some sample POIs
folium.Marker(
    location=[47.8005, 13.0439],
    popup="Mirabell Palace",
    icon=folium.Icon(color="green", icon="info-sign")
).add_to(salzburg_map)

folium.Marker(
    location=[47.7986, 13.0469],
    popup="Mozart's Birthplace",
    icon=folium.Icon(color="blue", icon="info-sign")
).add_to(salzburg_map)

# Show updated map
salzburg_map






