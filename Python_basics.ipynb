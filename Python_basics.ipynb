{
 "cells": [
  {
   "cell_type": "code",
   "execution_count": null,
   "id": "c1fac60e-c3f1-44d6-b71a-cb230b317513",
   "metadata": {},
   "outputs": [],
   "source": [
    "# This is a comment\n",
    "# This will not be executed"
   ]
  },
  {
   "cell_type": "code",
   "execution_count": null,
   "id": "ef27a25d-6906-400d-9aaf-b8612fbfc65a",
   "metadata": {},
   "outputs": [],
   "source": [
    "'''\n",
    "Use 3 quotation marks to create \n",
    "a multi-line\n",
    "comment.\n",
    "'''"
   ]
  },
  {
   "cell_type": "code",
   "execution_count": 2,
   "id": "d5e99994-26b1-428f-9aa4-ecbe0c6ed383",
   "metadata": {},
   "outputs": [],
   "source": [
    "variable=24\n",
    "variable_2='This is a text.'"
   ]
  },
  {
   "cell_type": "code",
   "execution_count": 4,
   "id": "9dc8b745-d2b3-42ff-ba5c-485acbbeb591",
   "metadata": {},
   "outputs": [
    {
     "data": {
      "text/plain": [
       "str"
      ]
     },
     "execution_count": 4,
     "metadata": {},
     "output_type": "execute_result"
    }
   ],
   "source": [
    "type(variable_2)"
   ]
  },
  {
   "cell_type": "code",
   "execution_count": 6,
   "id": "9f6e51a9-9f75-4170-a40c-d2634a74174f",
   "metadata": {},
   "outputs": [
    {
     "data": {
      "text/plain": [
       "5"
      ]
     },
     "execution_count": 6,
     "metadata": {},
     "output_type": "execute_result"
    }
   ],
   "source": [
    "y=4.6\n",
    "round(y)"
   ]
  },
  {
   "cell_type": "code",
   "execution_count": 10,
   "id": "05f10249-d07f-4069-b73c-4de484ab2230",
   "metadata": {},
   "outputs": [
    {
     "name": "stdout",
     "output_type": "stream",
     "text": [
      "['This is a list.', 'with', 'some', 'features']\n"
     ]
    }
   ],
   "source": [
    "list_1=['This is a list.', 'with', 'some', 'features']\n",
    "print(list_1)"
   ]
  },
  {
   "cell_type": "code",
   "execution_count": 12,
   "id": "b16af079-451f-49ac-9107-042761b8db7c",
   "metadata": {},
   "outputs": [
    {
     "name": "stdout",
     "output_type": "stream",
     "text": [
      "b is greater than a\n"
     ]
    }
   ],
   "source": [
    "a=33\n",
    "b=200\n",
    "if b>a:\n",
    "    print(\"b is greater than a\")"
   ]
  },
  {
   "cell_type": "code",
   "execution_count": 14,
   "id": "dd64d210-a4f2-4a55-9a6e-968dfda7cca6",
   "metadata": {},
   "outputs": [
    {
     "name": "stdout",
     "output_type": "stream",
     "text": [
      "This is a list.\n",
      "with\n",
      "some\n",
      "features\n"
     ]
    }
   ],
   "source": [
    "for x in list_1:\n",
    "    print(x)"
   ]
  },
  {
   "cell_type": "code",
   "execution_count": null,
   "id": "fe2fd796-51c9-4f21-84dc-5f0a2611503e",
   "metadata": {},
   "outputs": [],
   "source": []
  }
 ],
 "metadata": {
  "kernelspec": {
   "display_name": "Python 3 (ipykernel)",
   "language": "python",
   "name": "python3"
  },
  "language_info": {
   "codemirror_mode": {
    "name": "ipython",
    "version": 3
   },
   "file_extension": ".py",
   "mimetype": "text/x-python",
   "name": "python",
   "nbconvert_exporter": "python",
   "pygments_lexer": "ipython3",
   "version": "3.12.4"
  }
 },
 "nbformat": 4,
 "nbformat_minor": 5
}
